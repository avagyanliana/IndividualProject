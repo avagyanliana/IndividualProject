{
 "cells": [
  {
   "cell_type": "code",
   "execution_count": 51,
   "id": "6c239b3b",
   "metadata": {},
   "outputs": [],
   "source": [
    "import pandas as pd\n",
    "import numpy as np\n",
    "import networkx as nx\n",
    "import numpy as np\n",
    "import seaborn as sns\n",
    "import datetime as dt\n",
    "from lifetimes.plotting import *\n",
    "from lifetimes.utils import *\n",
    "#from lifetimes.estimation import *\n",
    "import lifetimes\n",
    "from lifetimes.plotting import plot_period_transactions\n",
    "from lifetimes.utils import calibration_and_holdout_data\n",
    "from lifetimes.plotting import plot_calibration_purchases_vs_holdout_purchases\n",
    "from lifetimes import GammaGammaFitter"
   ]
  },
  {
   "cell_type": "code",
   "execution_count": 9,
   "id": "735132cd",
   "metadata": {},
   "outputs": [
    {
     "data": {
      "text/html": [
       "<div>\n",
       "<style scoped>\n",
       "    .dataframe tbody tr th:only-of-type {\n",
       "        vertical-align: middle;\n",
       "    }\n",
       "\n",
       "    .dataframe tbody tr th {\n",
       "        vertical-align: top;\n",
       "    }\n",
       "\n",
       "    .dataframe thead th {\n",
       "        text-align: right;\n",
       "    }\n",
       "</style>\n",
       "<table border=\"1\" class=\"dataframe\">\n",
       "  <thead>\n",
       "    <tr style=\"text-align: right;\">\n",
       "      <th></th>\n",
       "      <th>InvoiceNo</th>\n",
       "      <th>StockCode</th>\n",
       "      <th>Description</th>\n",
       "      <th>Quantity</th>\n",
       "      <th>InvoiceDate</th>\n",
       "      <th>UnitPrice</th>\n",
       "      <th>CustomerID</th>\n",
       "      <th>Country</th>\n",
       "    </tr>\n",
       "  </thead>\n",
       "  <tbody>\n",
       "    <tr>\n",
       "      <th>0</th>\n",
       "      <td>536365</td>\n",
       "      <td>85123A</td>\n",
       "      <td>WHITE HANGING HEART T-LIGHT HOLDER</td>\n",
       "      <td>6</td>\n",
       "      <td>2010-12-01 08:26:00</td>\n",
       "      <td>2.55</td>\n",
       "      <td>17850.0</td>\n",
       "      <td>United Kingdom</td>\n",
       "    </tr>\n",
       "    <tr>\n",
       "      <th>1</th>\n",
       "      <td>536365</td>\n",
       "      <td>71053</td>\n",
       "      <td>WHITE METAL LANTERN</td>\n",
       "      <td>6</td>\n",
       "      <td>2010-12-01 08:26:00</td>\n",
       "      <td>3.39</td>\n",
       "      <td>17850.0</td>\n",
       "      <td>United Kingdom</td>\n",
       "    </tr>\n",
       "    <tr>\n",
       "      <th>2</th>\n",
       "      <td>536365</td>\n",
       "      <td>84406B</td>\n",
       "      <td>CREAM CUPID HEARTS COAT HANGER</td>\n",
       "      <td>8</td>\n",
       "      <td>2010-12-01 08:26:00</td>\n",
       "      <td>2.75</td>\n",
       "      <td>17850.0</td>\n",
       "      <td>United Kingdom</td>\n",
       "    </tr>\n",
       "    <tr>\n",
       "      <th>3</th>\n",
       "      <td>536365</td>\n",
       "      <td>84029G</td>\n",
       "      <td>KNITTED UNION FLAG HOT WATER BOTTLE</td>\n",
       "      <td>6</td>\n",
       "      <td>2010-12-01 08:26:00</td>\n",
       "      <td>3.39</td>\n",
       "      <td>17850.0</td>\n",
       "      <td>United Kingdom</td>\n",
       "    </tr>\n",
       "    <tr>\n",
       "      <th>4</th>\n",
       "      <td>536365</td>\n",
       "      <td>84029E</td>\n",
       "      <td>RED WOOLLY HOTTIE WHITE HEART.</td>\n",
       "      <td>6</td>\n",
       "      <td>2010-12-01 08:26:00</td>\n",
       "      <td>3.39</td>\n",
       "      <td>17850.0</td>\n",
       "      <td>United Kingdom</td>\n",
       "    </tr>\n",
       "  </tbody>\n",
       "</table>\n",
       "</div>"
      ],
      "text/plain": [
       "  InvoiceNo StockCode                          Description  Quantity  \\\n",
       "0    536365    85123A   WHITE HANGING HEART T-LIGHT HOLDER         6   \n",
       "1    536365     71053                  WHITE METAL LANTERN         6   \n",
       "2    536365    84406B       CREAM CUPID HEARTS COAT HANGER         8   \n",
       "3    536365    84029G  KNITTED UNION FLAG HOT WATER BOTTLE         6   \n",
       "4    536365    84029E       RED WOOLLY HOTTIE WHITE HEART.         6   \n",
       "\n",
       "          InvoiceDate  UnitPrice  CustomerID         Country  \n",
       "0 2010-12-01 08:26:00       2.55     17850.0  United Kingdom  \n",
       "1 2010-12-01 08:26:00       3.39     17850.0  United Kingdom  \n",
       "2 2010-12-01 08:26:00       2.75     17850.0  United Kingdom  \n",
       "3 2010-12-01 08:26:00       3.39     17850.0  United Kingdom  \n",
       "4 2010-12-01 08:26:00       3.39     17850.0  United Kingdom  "
      ]
     },
     "execution_count": 9,
     "metadata": {},
     "output_type": "execute_result"
    }
   ],
   "source": [
    "df = pd.read_excel(\"Online_Retail.xlsx\")\n",
    "df.head()"
   ]
  },
  {
   "cell_type": "code",
   "execution_count": 10,
   "id": "f2fd0b3a",
   "metadata": {},
   "outputs": [],
   "source": [
    "df['InvoiceDate'] = pd.to_datetime(df['InvoiceDate']).dt.date"
   ]
  },
  {
   "cell_type": "markdown",
   "id": "b2a71007",
   "metadata": {},
   "source": [
    "### Taking not null customers and which have at least 1 order."
   ]
  },
  {
   "cell_type": "code",
   "execution_count": 11,
   "id": "3e77ff4c",
   "metadata": {},
   "outputs": [],
   "source": [
    "df = df[pd.notnull(df['CustomerID'])]\n",
    "df = df[(df['Quantity']>0)]"
   ]
  },
  {
   "cell_type": "markdown",
   "id": "206c9e43",
   "metadata": {},
   "source": [
    "### Let's add sales column by multiplying Quantity with Unit price, and show only customers, date and sales"
   ]
  },
  {
   "cell_type": "code",
   "execution_count": 12,
   "id": "e7d0e11f",
   "metadata": {},
   "outputs": [],
   "source": [
    "df['Sales'] = df['Quantity'] * df['UnitPrice']\n",
    "show = ['CustomerID', 'InvoiceDate', 'Sales']\n",
    "df = df[show]"
   ]
  },
  {
   "cell_type": "markdown",
   "id": "a5c76c78",
   "metadata": {},
   "source": [
    "### Let's count number of distinct elements in specified axis"
   ]
  },
  {
   "cell_type": "code",
   "execution_count": 15,
   "id": "92d1e153",
   "metadata": {},
   "outputs": [
    {
     "name": "stdout",
     "output_type": "stream",
     "text": [
      "   CustomerID InvoiceDate  Sales\n",
      "0     17850.0  2010-12-01  15.30\n",
      "1     17850.0  2010-12-01  20.34\n",
      "2     17850.0  2010-12-01  22.00\n",
      "3     17850.0  2010-12-01  20.34\n",
      "4     17850.0  2010-12-01  20.34\n"
     ]
    }
   ],
   "source": [
    "print(df.head())"
   ]
  },
  {
   "cell_type": "code",
   "execution_count": 13,
   "id": "53f95e23",
   "metadata": {},
   "outputs": [
    {
     "name": "stdout",
     "output_type": "stream",
     "text": [
      "4339\n"
     ]
    }
   ],
   "source": [
    "print(df['CustomerID'].nunique())"
   ]
  },
  {
   "cell_type": "code",
   "execution_count": 14,
   "id": "772e108c",
   "metadata": {},
   "outputs": [
    {
     "data": {
      "text/html": [
       "<div>\n",
       "<style scoped>\n",
       "    .dataframe tbody tr th:only-of-type {\n",
       "        vertical-align: middle;\n",
       "    }\n",
       "\n",
       "    .dataframe tbody tr th {\n",
       "        vertical-align: top;\n",
       "    }\n",
       "\n",
       "    .dataframe thead th {\n",
       "        text-align: right;\n",
       "    }\n",
       "</style>\n",
       "<table border=\"1\" class=\"dataframe\">\n",
       "  <thead>\n",
       "    <tr style=\"text-align: right;\">\n",
       "      <th></th>\n",
       "      <th>frequency</th>\n",
       "      <th>recency</th>\n",
       "      <th>T</th>\n",
       "      <th>monetary_value</th>\n",
       "    </tr>\n",
       "    <tr>\n",
       "      <th>CustomerID</th>\n",
       "      <th></th>\n",
       "      <th></th>\n",
       "      <th></th>\n",
       "      <th></th>\n",
       "    </tr>\n",
       "  </thead>\n",
       "  <tbody>\n",
       "    <tr>\n",
       "      <th>12346.0</th>\n",
       "      <td>0.0</td>\n",
       "      <td>0.0</td>\n",
       "      <td>325.0</td>\n",
       "      <td>0.000000</td>\n",
       "    </tr>\n",
       "    <tr>\n",
       "      <th>12347.0</th>\n",
       "      <td>6.0</td>\n",
       "      <td>365.0</td>\n",
       "      <td>367.0</td>\n",
       "      <td>599.701667</td>\n",
       "    </tr>\n",
       "    <tr>\n",
       "      <th>12348.0</th>\n",
       "      <td>3.0</td>\n",
       "      <td>283.0</td>\n",
       "      <td>358.0</td>\n",
       "      <td>301.480000</td>\n",
       "    </tr>\n",
       "    <tr>\n",
       "      <th>12349.0</th>\n",
       "      <td>0.0</td>\n",
       "      <td>0.0</td>\n",
       "      <td>18.0</td>\n",
       "      <td>0.000000</td>\n",
       "    </tr>\n",
       "    <tr>\n",
       "      <th>12350.0</th>\n",
       "      <td>0.0</td>\n",
       "      <td>0.0</td>\n",
       "      <td>310.0</td>\n",
       "      <td>0.000000</td>\n",
       "    </tr>\n",
       "  </tbody>\n",
       "</table>\n",
       "</div>"
      ],
      "text/plain": [
       "            frequency  recency      T  monetary_value\n",
       "CustomerID                                           \n",
       "12346.0           0.0      0.0  325.0        0.000000\n",
       "12347.0           6.0    365.0  367.0      599.701667\n",
       "12348.0           3.0    283.0  358.0      301.480000\n",
       "12349.0           0.0      0.0   18.0        0.000000\n",
       "12350.0           0.0      0.0  310.0        0.000000"
      ]
     },
     "execution_count": 14,
     "metadata": {},
     "output_type": "execute_result"
    }
   ],
   "source": [
    "data = summary_data_from_transaction_data(df, 'CustomerID', 'InvoiceDate', monetary_value_col='Sales', observation_period_end='2011-12-9')\n",
    "data.head()"
   ]
  },
  {
   "cell_type": "code",
   "execution_count": 17,
   "id": "4e7ffbf5",
   "metadata": {},
   "outputs": [
    {
     "name": "stdout",
     "output_type": "stream",
     "text": [
      "count    4339.000000\n",
      "mean        2.864024\n",
      "std         5.952745\n",
      "min         0.000000\n",
      "25%         0.000000\n",
      "50%         1.000000\n",
      "75%         3.000000\n",
      "max       131.000000\n",
      "Name: frequency, dtype: float64\n",
      "0.3569946992394561\n"
     ]
    },
    {
     "data": {
      "image/png": "[encoded data removed]",
      "text/plain": [
       "<Figure size 432x288 with 1 Axes>"
      ]
     },
     "metadata": {
      "needs_background": "light"
     },
     "output_type": "display_data"
    }
   ],
   "source": [
    "data['frequency'].plot(kind='hist', bins=40)\n",
    "print(data['frequency'].describe()) \n",
    "print(sum(data['frequency'] == 0)/float(len(data)))"
   ]
  },
  {
   "cell_type": "code",
   "execution_count": 18,
   "id": "0193fc42",
   "metadata": {},
   "outputs": [],
   "source": [
    "from lifetimes import BetaGeoFitter"
   ]
  },
  {
   "cell_type": "markdown",
   "id": "41f7a833",
   "metadata": {},
   "source": [
    "### Lets's use BetaGeoFitter"
   ]
  },
  {
   "cell_type": "code",
   "execution_count": 19,
   "id": "a264fa46",
   "metadata": {},
   "outputs": [
    {
     "data": {
      "text/plain": [
       "<lifetimes.BetaGeoFitter: fitted with 4339 subjects, a: 0.00, alpha: 68.89, b: 6.75, r: 0.83>"
      ]
     },
     "execution_count": 19,
     "metadata": {},
     "output_type": "execute_result"
    }
   ],
   "source": [
    "betageofit = BetaGeoFitter(penalizer_coef=0.0)\n",
    "betageofit.fit(data['frequency'], data['recency'], data['T'])"
   ]
  },
  {
   "cell_type": "code",
   "execution_count": 22,
   "id": "0160afb0",
   "metadata": {},
   "outputs": [
    {
     "name": "stdout",
     "output_type": "stream",
     "text": [
      "<lifetimes.BetaGeoFitter: fitted with 4339 subjects, a: 0.00, alpha: 68.89, b: 6.75, r: 0.83>\n"
     ]
    }
   ],
   "source": [
    "print(betageofit)"
   ]
  },
  {
   "cell_type": "code",
   "execution_count": 23,
   "id": "91019c7d",
   "metadata": {},
   "outputs": [],
   "source": [
    "from lifetimes.plotting import plot_frequency_recency_matrix\n",
    "import matplotlib.pyplot as plt"
   ]
  },
  {
   "cell_type": "code",
   "execution_count": 24,
   "id": "840c5121",
   "metadata": {},
   "outputs": [
    {
     "data": {
      "text/plain": [
       "<AxesSubplot:title={'center':'Expected Number of Future Purchases for 1 Unit of Time,\\nby Frequency and Recency of a Customer'}, xlabel=\"Customer's Historical Frequency\", ylabel=\"Customer's Recency\">"
      ]
     },
     "execution_count": 24,
     "metadata": {},
     "output_type": "execute_result"
    },
    {
     "data": {
      "image/png": "[encoded data removed]",
      "text/plain": [
       "<Figure size 1152x432 with 2 Axes>"
      ]
     },
     "metadata": {
      "needs_background": "light"
     },
     "output_type": "display_data"
    }
   ],
   "source": [
    "figure = plt.figure(figsize=(16,6))\n",
    "plot_frequency_recency_matrix(betageofit)"
   ]
  },
  {
   "cell_type": "code",
   "execution_count": 25,
   "id": "b6718628",
   "metadata": {},
   "outputs": [],
   "source": [
    "from lifetimes.plotting import plot_probability_alive_matrix"
   ]
  },
  {
   "cell_type": "code",
   "execution_count": 26,
   "id": "c0bcf293",
   "metadata": {},
   "outputs": [
    {
     "data": {
      "text/plain": [
       "<AxesSubplot:title={'center':'Probability Customer is Alive,\\nby Frequency and Recency of a Customer'}, xlabel=\"Customer's Historical Frequency\", ylabel=\"Customer's Recency\">"
      ]
     },
     "execution_count": 26,
     "metadata": {},
     "output_type": "execute_result"
    },
    {
     "data": {
      "image/png": "[encoded data removed]",
      "text/plain": [
       "<Figure size 1152x432 with 2 Axes>"
      ]
     },
     "metadata": {
      "needs_background": "light"
     },
     "output_type": "display_data"
    }
   ],
   "source": [
    "figure = plt.figure(figsize=(16,6))\n",
    "plot_probability_alive_matrix(betageofit)"
   ]
  },
  {
   "cell_type": "code",
   "execution_count": 27,
   "id": "e387ef46",
   "metadata": {},
   "outputs": [],
   "source": [
    "data['Purchases_Predicted'] = betageofit.conditional_expected_number_of_purchases_up_to_time(1, data['frequency'], data['recency'], data['T'])"
   ]
  },
  {
   "cell_type": "code",
   "execution_count": 28,
   "id": "06bdd797",
   "metadata": {},
   "outputs": [
    {
     "data": {
      "text/html": [
       "<div>\n",
       "<style scoped>\n",
       "    .dataframe tbody tr th:only-of-type {\n",
       "        vertical-align: middle;\n",
       "    }\n",
       "\n",
       "    .dataframe tbody tr th {\n",
       "        vertical-align: top;\n",
       "    }\n",
       "\n",
       "    .dataframe thead th {\n",
       "        text-align: right;\n",
       "    }\n",
       "</style>\n",
       "<table border=\"1\" class=\"dataframe\">\n",
       "  <thead>\n",
       "    <tr style=\"text-align: right;\">\n",
       "      <th></th>\n",
       "      <th>frequency</th>\n",
       "      <th>recency</th>\n",
       "      <th>T</th>\n",
       "      <th>monetary_value</th>\n",
       "      <th>Purchases_Predicted</th>\n",
       "    </tr>\n",
       "    <tr>\n",
       "      <th>CustomerID</th>\n",
       "      <th></th>\n",
       "      <th></th>\n",
       "      <th></th>\n",
       "      <th></th>\n",
       "      <th></th>\n",
       "    </tr>\n",
       "  </thead>\n",
       "  <tbody>\n",
       "    <tr>\n",
       "      <th>16422.0</th>\n",
       "      <td>47.0</td>\n",
       "      <td>352.0</td>\n",
       "      <td>369.0</td>\n",
       "      <td>702.472340</td>\n",
       "      <td>0.109172</td>\n",
       "    </tr>\n",
       "    <tr>\n",
       "      <th>13798.0</th>\n",
       "      <td>52.0</td>\n",
       "      <td>371.0</td>\n",
       "      <td>372.0</td>\n",
       "      <td>706.650962</td>\n",
       "      <td>0.119809</td>\n",
       "    </tr>\n",
       "    <tr>\n",
       "      <th>14527.0</th>\n",
       "      <td>53.0</td>\n",
       "      <td>367.0</td>\n",
       "      <td>369.0</td>\n",
       "      <td>155.016415</td>\n",
       "      <td>0.122912</td>\n",
       "    </tr>\n",
       "    <tr>\n",
       "      <th>13089.0</th>\n",
       "      <td>65.0</td>\n",
       "      <td>367.0</td>\n",
       "      <td>369.0</td>\n",
       "      <td>893.714308</td>\n",
       "      <td>0.150316</td>\n",
       "    </tr>\n",
       "    <tr>\n",
       "      <th>12971.0</th>\n",
       "      <td>70.0</td>\n",
       "      <td>369.0</td>\n",
       "      <td>372.0</td>\n",
       "      <td>159.211286</td>\n",
       "      <td>0.160632</td>\n",
       "    </tr>\n",
       "    <tr>\n",
       "      <th>14606.0</th>\n",
       "      <td>88.0</td>\n",
       "      <td>372.0</td>\n",
       "      <td>373.0</td>\n",
       "      <td>135.890114</td>\n",
       "      <td>0.201005</td>\n",
       "    </tr>\n",
       "    <tr>\n",
       "      <th>15311.0</th>\n",
       "      <td>89.0</td>\n",
       "      <td>373.0</td>\n",
       "      <td>373.0</td>\n",
       "      <td>677.729438</td>\n",
       "      <td>0.203269</td>\n",
       "    </tr>\n",
       "    <tr>\n",
       "      <th>17841.0</th>\n",
       "      <td>111.0</td>\n",
       "      <td>372.0</td>\n",
       "      <td>373.0</td>\n",
       "      <td>364.452162</td>\n",
       "      <td>0.253053</td>\n",
       "    </tr>\n",
       "    <tr>\n",
       "      <th>12748.0</th>\n",
       "      <td>113.0</td>\n",
       "      <td>373.0</td>\n",
       "      <td>373.0</td>\n",
       "      <td>298.360885</td>\n",
       "      <td>0.257581</td>\n",
       "    </tr>\n",
       "    <tr>\n",
       "      <th>14911.0</th>\n",
       "      <td>131.0</td>\n",
       "      <td>372.0</td>\n",
       "      <td>373.0</td>\n",
       "      <td>1093.661679</td>\n",
       "      <td>0.298312</td>\n",
       "    </tr>\n",
       "  </tbody>\n",
       "</table>\n",
       "</div>"
      ],
      "text/plain": [
       "            frequency  recency      T  monetary_value  Purchases_Predicted\n",
       "CustomerID                                                                \n",
       "16422.0          47.0    352.0  369.0      702.472340             0.109172\n",
       "13798.0          52.0    371.0  372.0      706.650962             0.119809\n",
       "14527.0          53.0    367.0  369.0      155.016415             0.122912\n",
       "13089.0          65.0    367.0  369.0      893.714308             0.150316\n",
       "12971.0          70.0    369.0  372.0      159.211286             0.160632\n",
       "14606.0          88.0    372.0  373.0      135.890114             0.201005\n",
       "15311.0          89.0    373.0  373.0      677.729438             0.203269\n",
       "17841.0         111.0    372.0  373.0      364.452162             0.253053\n",
       "12748.0         113.0    373.0  373.0      298.360885             0.257581\n",
       "14911.0         131.0    372.0  373.0     1093.661679             0.298312"
      ]
     },
     "execution_count": 28,
     "metadata": {},
     "output_type": "execute_result"
    }
   ],
   "source": [
    "data.sort_values(by='Purchases_Predicted').tail(10)"
   ]
  },
  {
   "cell_type": "code",
   "execution_count": 30,
   "id": "64db7847",
   "metadata": {},
   "outputs": [
    {
     "data": {
      "text/plain": [
       "<AxesSubplot:title={'center':'Frequency of Repeat Transactions'}, xlabel='Number of Calibration Period Transactions', ylabel='Customers'>"
      ]
     },
     "execution_count": 30,
     "metadata": {},
     "output_type": "execute_result"
    },
    {
     "data": {
      "image/png": "[encoded data removed]",
      "text/plain": [
       "<Figure size 432x288 with 1 Axes>"
      ]
     },
     "metadata": {
      "needs_background": "light"
     },
     "output_type": "display_data"
    }
   ],
   "source": [
    "plot_period_transactions(betageofit)"
   ]
  },
  {
   "cell_type": "code",
   "execution_count": 33,
   "id": "056f1381",
   "metadata": {},
   "outputs": [],
   "source": [
    "summary_hold = calibration_and_holdout_data(df, 'CustomerID', 'InvoiceDate',\n",
    "                                        calibration_period_end='2011-06-08',\n",
    "                                        observation_period_end='2011-12-09' )"
   ]
  },
  {
   "cell_type": "code",
   "execution_count": 34,
   "id": "c9ab9751",
   "metadata": {},
   "outputs": [
    {
     "name": "stdout",
     "output_type": "stream",
     "text": [
      "            frequency_cal  recency_cal  T_cal  frequency_holdout  \\\n",
      "CustomerID                                                         \n",
      "12346.0               0.0          0.0  141.0                0.0   \n",
      "12347.0               2.0        121.0  183.0                4.0   \n",
      "12348.0               2.0        110.0  174.0                1.0   \n",
      "12350.0               0.0          0.0  126.0                0.0   \n",
      "12352.0               3.0         34.0  112.0                3.0   \n",
      "\n",
      "            duration_holdout  \n",
      "CustomerID                    \n",
      "12346.0                184.0  \n",
      "12347.0                184.0  \n",
      "12348.0                184.0  \n",
      "12350.0                184.0  \n",
      "12352.0                184.0  \n"
     ]
    }
   ],
   "source": [
    "print(summary_hold.head())"
   ]
  },
  {
   "cell_type": "code",
   "execution_count": 36,
   "id": "653bf504",
   "metadata": {
    "scrolled": false
   },
   "outputs": [
    {
     "name": "stderr",
     "output_type": "stream",
     "text": [
      "/opt/anaconda3/lib/python3.8/site-packages/pandas/core/arraylike.py:358: RuntimeWarning: invalid value encountered in sqrt\n",
      "  result = getattr(ufunc, method)(*inputs, **kwargs)\n"
     ]
    },
    {
     "data": {
      "text/plain": [
       "<AxesSubplot:title={'center':'Actual Purchases in Holdout Period vs Predicted Purchases'}, xlabel='Purchases in calibration period', ylabel='Average of Purchases in Holdout Period'>"
      ]
     },
     "execution_count": 36,
     "metadata": {},
     "output_type": "execute_result"
    },
    {
     "data": {
      "image/png": "[encoded data removed]",
      "text/plain": [
       "<Figure size 432x288 with 1 Axes>"
      ]
     },
     "metadata": {
      "needs_background": "light"
     },
     "output_type": "display_data"
    }
   ],
   "source": [
    "betageofit.fit(summary_hold['frequency_cal'], summary_hold['recency_cal'], summary_hold['T_cal'])\n",
    "plot_calibration_purchases_vs_holdout_purchases(betageofit, summary_hold)"
   ]
  },
  {
   "cell_type": "code",
   "execution_count": 37,
   "id": "c7c87ccb",
   "metadata": {},
   "outputs": [
    {
     "data": {
      "text/plain": [
       "frequency                6.000000\n",
       "recency                365.000000\n",
       "T                      367.000000\n",
       "monetary_value         599.701667\n",
       "Purchases_Predicted      0.015656\n",
       "Name: 12347.0, dtype: float64"
      ]
     },
     "execution_count": 37,
     "metadata": {},
     "output_type": "execute_result"
    }
   ],
   "source": [
    "data.loc[12347]"
   ]
  },
  {
   "cell_type": "markdown",
   "id": "3d84cf6f",
   "metadata": {},
   "source": [
    "### Let's predict for 10 additional periods for above element\n",
    "### The below function is an alias to \"bfg.conditional_expected_number_of_purchases_up_to_time\""
   ]
  },
  {
   "cell_type": "code",
   "execution_count": 38,
   "id": "6c18e7bb",
   "metadata": {},
   "outputs": [
    {
     "data": {
      "text/plain": [
       "0.15727743137863798"
      ]
     },
     "execution_count": 38,
     "metadata": {},
     "output_type": "execute_result"
    }
   ],
   "source": [
    "betageofit.predict(10, data.loc[12347]['frequency'], data.loc[12347]['recency'], data.loc[12347]['T'])"
   ]
  },
  {
   "cell_type": "code",
   "execution_count": 45,
   "id": "ddf8f73a",
   "metadata": {},
   "outputs": [
    {
     "data": {
      "text/plain": [
       "<AxesSubplot:title={'center':'History of P_alive'}, ylabel='P_alive'>"
      ]
     },
     "execution_count": 45,
     "metadata": {},
     "output_type": "execute_result"
    },
    {
     "data": {
      "image/png": "[encoded data removed]",
      "text/plain": [
       "<Figure size 1152x432 with 1 Axes>"
      ]
     },
     "metadata": {
      "needs_background": "light"
     },
     "output_type": "display_data"
    }
   ],
   "source": [
    "fig = plt.figure(figsize=(16,6))\n",
    "sp_trans = df.loc[df['CustomerID'] == 14730]\n",
    "plot_history_alive(betageofit, 365, sp_trans, 'InvoiceDate')"
   ]
  },
  {
   "cell_type": "markdown",
   "id": "078bb009",
   "metadata": {},
   "source": [
    "### Let's see the summary of customers"
   ]
  },
  {
   "cell_type": "code",
   "execution_count": 46,
   "id": "d6934a63",
   "metadata": {},
   "outputs": [],
   "source": [
    "summ = data[data['frequency']>0]"
   ]
  },
  {
   "cell_type": "code",
   "execution_count": 48,
   "id": "d4e94692",
   "metadata": {},
   "outputs": [
    {
     "name": "stdout",
     "output_type": "stream",
     "text": [
      "            frequency  recency      T  monetary_value  Purchases_Predicted\n",
      "CustomerID                                                                \n",
      "12347.0           6.0    365.0  367.0      599.701667             0.015656\n",
      "12348.0           3.0    283.0  358.0      301.480000             0.008956\n",
      "12352.0           6.0    260.0  296.0      368.256667             0.018697\n",
      "12356.0           2.0    303.0  325.0      269.905000             0.007172\n",
      "12358.0           1.0    149.0  150.0      683.200000             0.008340\n",
      "2790\n"
     ]
    }
   ],
   "source": [
    "print(summ.head())\n",
    "print(len(summ))"
   ]
  },
  {
   "cell_type": "markdown",
   "id": "c3e863e8",
   "metadata": {},
   "source": [
    "### Let's see the correlation between monetary value and frequency"
   ]
  },
  {
   "cell_type": "code",
   "execution_count": 49,
   "id": "912d7318",
   "metadata": {},
   "outputs": [
    {
     "data": {
      "text/html": [
       "<div>\n",
       "<style scoped>\n",
       "    .dataframe tbody tr th:only-of-type {\n",
       "        vertical-align: middle;\n",
       "    }\n",
       "\n",
       "    .dataframe tbody tr th {\n",
       "        vertical-align: top;\n",
       "    }\n",
       "\n",
       "    .dataframe thead th {\n",
       "        text-align: right;\n",
       "    }\n",
       "</style>\n",
       "<table border=\"1\" class=\"dataframe\">\n",
       "  <thead>\n",
       "    <tr style=\"text-align: right;\">\n",
       "      <th></th>\n",
       "      <th>monetary_value</th>\n",
       "      <th>frequency</th>\n",
       "    </tr>\n",
       "  </thead>\n",
       "  <tbody>\n",
       "    <tr>\n",
       "      <th>monetary_value</th>\n",
       "      <td>1.000000</td>\n",
       "      <td>0.015882</td>\n",
       "    </tr>\n",
       "    <tr>\n",
       "      <th>frequency</th>\n",
       "      <td>0.015882</td>\n",
       "      <td>1.000000</td>\n",
       "    </tr>\n",
       "  </tbody>\n",
       "</table>\n",
       "</div>"
      ],
      "text/plain": [
       "                monetary_value  frequency\n",
       "monetary_value        1.000000   0.015882\n",
       "frequency             0.015882   1.000000"
      ]
     },
     "execution_count": 49,
     "metadata": {},
     "output_type": "execute_result"
    }
   ],
   "source": [
    "summ[['monetary_value', 'frequency']].corr()"
   ]
  },
  {
   "cell_type": "code",
   "execution_count": null,
   "id": "7c32defb",
   "metadata": {},
   "outputs": [],
   "source": []
  },
  {
   "cell_type": "markdown",
   "id": "48b8350a",
   "metadata": {},
   "source": [
    "### Now let's use GammaGammaFitter"
   ]
  },
  {
   "cell_type": "code",
   "execution_count": 52,
   "id": "50887ad5",
   "metadata": {},
   "outputs": [
    {
     "data": {
      "text/plain": [
       "<lifetimes.GammaGammaFitter: fitted with 2790 subjects, p: 2.10, q: 3.45, v: 485.57>"
      ]
     },
     "execution_count": 52,
     "metadata": {},
     "output_type": "execute_result"
    }
   ],
   "source": [
    "ggf = GammaGammaFitter(penalizer_coef = 0)\n",
    "ggf.fit(summ['frequency'],\n",
    "        summ['monetary_value'])"
   ]
  },
  {
   "cell_type": "code",
   "execution_count": 53,
   "id": "a833bfd2",
   "metadata": {},
   "outputs": [
    {
     "name": "stdout",
     "output_type": "stream",
     "text": [
      "<lifetimes.GammaGammaFitter: fitted with 2790 subjects, p: 2.10, q: 3.45, v: 485.57>\n"
     ]
    }
   ],
   "source": [
    "print(ggf)"
   ]
  },
  {
   "cell_type": "markdown",
   "id": "38792475",
   "metadata": {},
   "source": [
    "### Now let's see the expected average profit for some customers"
   ]
  },
  {
   "cell_type": "code",
   "execution_count": 54,
   "id": "ee509f9d",
   "metadata": {},
   "outputs": [
    {
     "name": "stdout",
     "output_type": "stream",
     "text": [
      "CustomerID\n",
      "12346.0     416.917667\n",
      "12347.0     569.988807\n",
      "12348.0     333.762672\n",
      "12349.0     416.917667\n",
      "12350.0     416.917667\n",
      "12352.0     376.166864\n",
      "12353.0     416.917667\n",
      "12354.0     416.917667\n",
      "12355.0     416.917667\n",
      "12356.0     324.008941\n",
      "12357.0     416.917667\n",
      "12358.0     539.930643\n",
      "12359.0    1515.282839\n",
      "12360.0     652.217077\n",
      "12361.0     416.917667\n",
      "dtype: float64\n"
     ]
    }
   ],
   "source": [
    "print(ggf.conditional_expected_average_profit(\n",
    "        data['frequency'],\n",
    "        data['monetary_value']\n",
    "    ).head(15))"
   ]
  },
  {
   "cell_type": "code",
   "execution_count": 56,
   "id": "dc98f714",
   "metadata": {},
   "outputs": [
    {
     "name": "stdout",
     "output_type": "stream",
     "text": [
      "CustomerID\n",
      "12346.0     295.248495\n",
      "12347.0    3010.933997\n",
      "12348.0    1008.692677\n",
      "12349.0    1337.106427\n",
      "12350.0     306.932977\n",
      "12352.0    2372.739690\n",
      "12353.0     426.098903\n",
      "12354.0     386.464312\n",
      "12355.0     411.043379\n",
      "12356.0     784.161526\n",
      "Name: clv, dtype: float64\n"
     ]
    }
   ],
   "source": [
    "betageofit.fit(data['frequency'], data['recency'], data['T'])\n",
    "\n",
    "print(ggf.customer_lifetime_value(\n",
    "    betageofit, #the model to use to predict the number of future transactions\n",
    "    data['frequency'],\n",
    "    data['recency'],\n",
    "    data['T'],\n",
    "    data['monetary_value'],\n",
    "    time=12, # months\n",
    "    discount_rate=0.01 # monthly discount rate ~ 12.7% annually\n",
    ").head(10))"
   ]
  },
  {
   "cell_type": "code",
   "execution_count": null,
   "id": "4ab2e7b8",
   "metadata": {},
   "outputs": [],
   "source": []
  },
  {
   "cell_type": "code",
   "execution_count": null,
   "id": "34e9271b",
   "metadata": {},
   "outputs": [],
   "source": []
  },
  {
   "cell_type": "code",
   "execution_count": null,
   "id": "a82818ab",
   "metadata": {},
   "outputs": [],
   "source": []
  },
  {
   "cell_type": "code",
   "execution_count": 58,
   "id": "05a71baf",
   "metadata": {},
   "outputs": [
    {
     "name": "stdout",
     "output_type": "stream",
     "text": [
      "Requirement already satisfied: create-license in /opt/anaconda3/lib/python3.8/site-packages (2.1.1)\n",
      "Requirement already satisfied: simplecfg<3.0.0,>=2.0.0 in /opt/anaconda3/lib/python3.8/site-packages (from create-license) (2.0.0)\n",
      "Note: you may need to restart the kernel to use updated packages.\n"
     ]
    }
   ],
   "source": [
    "pip install create-license"
   ]
  },
  {
   "cell_type": "code",
   "execution_count": null,
   "id": "cbf32805",
   "metadata": {},
   "outputs": [],
   "source": []
  }
 ],
 "metadata": {
  "kernelspec": {
   "display_name": "Python 3",
   "language": "python",
   "name": "python3"
  },
  "language_info": {
   "codemirror_mode": {
    "name": "ipython",
    "version": 3
   },
   "file_extension": ".py",
   "mimetype": "text/x-python",
   "name": "python",
   "nbconvert_exporter": "python",
   "pygments_lexer": "ipython3",
   "version": "3.8.8"
  }
 },
 "nbformat": 4,
 "nbformat_minor": 5
}
